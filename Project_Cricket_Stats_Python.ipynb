{
  "nbformat": 4,
  "nbformat_minor": 0,
  "metadata": {
    "colab": {
      "name": "Guided Project - Dream Premier League.ipynb",
      "provenance": []
    },
    "kernelspec": {
      "name": "python3",
      "display_name": "Python 3"
    }
  },
  "cells": [
    {
      "cell_type": "markdown",
      "metadata": {
        "id": "8hjlpv4ix8LQ"
      },
      "source": [
        "# <u>Cricket Match Stats</u>\n",
        "\n",
        "### A match is going on. Team RBC has a made score of **195** for **7** in **20** overs and the opponent Team WBC is doing some analytics to find out what they need to do to win. You are the Data Scientist of the Team WBC and you have been asked to help them."
      ]
    },
    {
      "cell_type": "markdown",
      "metadata": {
        "id": "JkqzpQzX54Z-"
      },
      "source": [
        "## <u>Problem 1</u>\n",
        "\n",
        "###Team WBC has stored the runs made by Team RBC players in the following dictionary.\n",
        "\n"
      ]
    },
    {
      "cell_type": "code",
      "metadata": {
        "id": "rypcBaB37JMD"
      },
      "source": [
        "RBC ={ \"Dhoni\":25, \"Virat\":31, \"Pollard\":11, \"Rohit\": 0, \"Maxwell\":12, \"Sachin\":59, \"Sehwag\":12 }"
      ],
      "execution_count": 79,
      "outputs": []
    },
    {
      "cell_type": "markdown",
      "metadata": {
        "id": "747H1msbg-ns"
      },
      "source": [
        "### Get the list of all players in Team RBC"
      ]
    },
    {
      "cell_type": "code",
      "metadata": {
        "id": "poP0TCGdhLuj",
        "colab": {
          "base_uri": "https://localhost:8080/"
        },
        "outputId": "e43f5be4-137f-433b-fe72-2bc501efc54a"
      },
      "source": [
        "# Get the list of players in Team RBC\n",
        "\n",
        "RBC_players= list(RBC.keys())\n",
        "print(RBC_players)"
      ],
      "execution_count": 80,
      "outputs": [
        {
          "output_type": "stream",
          "name": "stdout",
          "text": [
            "['Dhoni', 'Virat', 'Pollard', 'Rohit', 'Maxwell', 'Sachin', 'Sehwag']\n"
          ]
        }
      ]
    },
    {
      "cell_type": "markdown",
      "metadata": {
        "id": "YypMEr-i7fCE"
      },
      "source": [
        "## <u>Problem 2</u>\n",
        "\n",
        "### By mistake, the runs made by Rohit was recorded as <code>0</code>. Your next task is to figure out how many runs were made by Rohit and update the dictionary"
      ]
    },
    {
      "cell_type": "code",
      "metadata": {
        "id": "DZTXlt9I51vd",
        "colab": {
          "base_uri": "https://localhost:8080/"
        },
        "outputId": "ad9e4c86-c0e6-47d8-c5fe-82c6ef5ce513"
      },
      "source": [
        "# We know the total runs\n",
        "total_runs = sum(RBC.values())\n",
        "print(total_runs)\n",
        "\n",
        "#But we can see that in the problem statement it is mentioned that the total runs made are 195,"
      ],
      "execution_count": 81,
      "outputs": [
        {
          "output_type": "stream",
          "name": "stdout",
          "text": [
            "150\n"
          ]
        }
      ]
    },
    {
      "cell_type": "code",
      "metadata": {
        "id": "N46LGzE97waZ",
        "colab": {
          "base_uri": "https://localhost:8080/"
        },
        "outputId": "cbdd3c2b-18fb-4c24-b42b-290bd7faeb2a"
      },
      "source": [
        "# Print runs scored by Rohit\n",
        "Rohit_runs = 195 - sum(RBC.values())\n",
        "print(Rohit_runs)"
      ],
      "execution_count": 82,
      "outputs": [
        {
          "output_type": "stream",
          "name": "stdout",
          "text": [
            "45\n"
          ]
        }
      ]
    },
    {
      "cell_type": "code",
      "metadata": {
        "id": "4rTAegi67zOq",
        "colab": {
          "base_uri": "https://localhost:8080/"
        },
        "outputId": "77cb6e7b-9576-4711-ac18-5bacbaa779bc"
      },
      "source": [
        "# Update the dictionary with correct value of runs\n",
        "RBC['Rohit'] = Rohit_runs\n",
        "print(RBC)"
      ],
      "execution_count": 83,
      "outputs": [
        {
          "output_type": "stream",
          "name": "stdout",
          "text": [
            "{'Dhoni': 25, 'Virat': 31, 'Pollard': 11, 'Rohit': 45, 'Maxwell': 12, 'Sachin': 59, 'Sehwag': 12}\n"
          ]
        }
      ]
    },
    {
      "cell_type": "markdown",
      "metadata": {
        "id": "iM1FJFlWh7C5"
      },
      "source": [
        "## <u>Problem 4</u>\n",
        "\n",
        "#### Your next task is to find out who scored the second highest runs in Team RBC"
      ]
    },
    {
      "cell_type": "code",
      "metadata": {
        "id": "YPdfTlsKiWVx",
        "colab": {
          "base_uri": "https://localhost:8080/"
        },
        "outputId": "f2b9545d-4125-43e9-a142-c4dd3ab05b15"
      },
      "source": [
        "# Lets get the scorers and then there indexes\n",
        "scores = sorted(RBC.values(), reverse=True)\n",
        "#print(scores)\n",
        "\n",
        "print(list(RBC.keys())[list(RBC.values()).index(scores[1])])"
      ],
      "execution_count": 84,
      "outputs": [
        {
          "output_type": "stream",
          "name": "stdout",
          "text": [
            "Rohit\n"
          ]
        }
      ]
    },
    {
      "cell_type": "code",
      "source": [
        "# We can also do this using the max function\n",
        "# Lets first make a copy of the dictonary we have, its always better to make a copy and work on the copy\n",
        "RBC_copy = RBC.copy()\n"
      ],
      "metadata": {
        "id": "cg5R3patrQPR"
      },
      "execution_count": 87,
      "outputs": []
    },
    {
      "cell_type": "code",
      "source": [
        "#Finding the maximum runs scored and the corresponding index of the same\n",
        "max_runs = max(list(RBC_copy.values()))\n",
        "print(max_runs)\n",
        "max_runs_index = list(RBC_copy.values()).index(max_runs)\n",
        "print(f\"Index of the max runs score is {max_runs_index}\")"
      ],
      "metadata": {
        "colab": {
          "base_uri": "https://localhost:8080/"
        },
        "id": "f8EaTr4gr36K",
        "outputId": "0cdb79af-0ac2-4375-d34e-6be03abdda30"
      },
      "execution_count": 88,
      "outputs": [
        {
          "output_type": "stream",
          "name": "stdout",
          "text": [
            "59\n",
            "Index of the max runs score is 5\n"
          ]
        }
      ]
    },
    {
      "cell_type": "code",
      "source": [
        "#Now using the index we got we can find the player with the corresponding index who will be our leading run scorer\n",
        "highest_scorer = list(RBC_copy.keys())[max_runs_index]\n",
        "print(highest_scorer)"
      ],
      "metadata": {
        "colab": {
          "base_uri": "https://localhost:8080/"
        },
        "id": "c_DyB4nKsHNk",
        "outputId": "c1fa67c0-4190-4310-98ca-070c28b90b35"
      },
      "execution_count": 89,
      "outputs": [
        {
          "output_type": "stream",
          "name": "stdout",
          "text": [
            "Sachin\n"
          ]
        }
      ]
    },
    {
      "cell_type": "code",
      "source": [
        "# Now we pop sachin out and then repeat the same process so that we can get the highest which will be our second highest scorer overall\n",
        "RBC_copy.pop(highest_scorer)"
      ],
      "metadata": {
        "colab": {
          "base_uri": "https://localhost:8080/"
        },
        "id": "Haenb_yGsipd",
        "outputId": "fe5994a9-0c5a-4cbf-a1a0-6d07300b4dcf"
      },
      "execution_count": 90,
      "outputs": [
        {
          "output_type": "execute_result",
          "data": {
            "text/plain": [
              "59"
            ]
          },
          "metadata": {},
          "execution_count": 90
        }
      ]
    },
    {
      "cell_type": "code",
      "source": [
        "RBC_copy"
      ],
      "metadata": {
        "colab": {
          "base_uri": "https://localhost:8080/"
        },
        "id": "3DXtQCx9tAb_",
        "outputId": "5c8bfd9f-573d-446e-b599-acd388325216"
      },
      "execution_count": 91,
      "outputs": [
        {
          "output_type": "execute_result",
          "data": {
            "text/plain": [
              "{'Dhoni': 25,\n",
              " 'Virat': 31,\n",
              " 'Pollard': 11,\n",
              " 'Rohit': 45,\n",
              " 'Maxwell': 12,\n",
              " 'Sehwag': 12}"
            ]
          },
          "metadata": {},
          "execution_count": 91
        }
      ]
    },
    {
      "cell_type": "code",
      "source": [
        "# Now lets repeat the same process\n",
        "max_runs = max(list(RBC_copy.values()))\n",
        "#print(max_runs)\n",
        "max_runs_index = list(RBC_copy.values()).index(max_runs)\n",
        "#print(max_runs_index)\n",
        "\n",
        "#Now the Second highest run scorer is obtained as follows\n",
        "second_highest_scorer = list(RBC_copy.keys())[max_runs_index]\n",
        "print(second_highest_scorer)"
      ],
      "metadata": {
        "colab": {
          "base_uri": "https://localhost:8080/"
        },
        "id": "-yF42tQTtCxL",
        "outputId": "00c8e332-9389-4751-d94f-1c76ff3b2463"
      },
      "execution_count": 92,
      "outputs": [
        {
          "output_type": "stream",
          "name": "stdout",
          "text": [
            "Rohit\n"
          ]
        }
      ]
    },
    {
      "cell_type": "markdown",
      "metadata": {
        "id": "se80XQGBGekX"
      },
      "source": [
        "## <u>Problem 4</u>\n",
        "\n",
        "#### Just out of curiosity, you want to find out the unique runs made by Team RBC players."
      ]
    },
    {
      "cell_type": "code",
      "metadata": {
        "id": "X-XQWW4lGZaG"
      },
      "source": [
        "# We use set to get the unique values.\n",
        "run_set = set(RBC.values())"
      ],
      "execution_count": 93,
      "outputs": []
    },
    {
      "cell_type": "code",
      "metadata": {
        "id": "GL56nYUzF6hs",
        "colab": {
          "base_uri": "https://localhost:8080/"
        },
        "outputId": "afb96eee-0ada-42a8-892e-b36eec0a859f"
      },
      "source": [
        "# Print the unique runs\n",
        "run_set"
      ],
      "execution_count": 94,
      "outputs": [
        {
          "output_type": "execute_result",
          "data": {
            "text/plain": [
              "{11, 12, 25, 31, 45, 59}"
            ]
          },
          "metadata": {},
          "execution_count": 94
        }
      ]
    },
    {
      "cell_type": "markdown",
      "metadata": {
        "id": "IJvnHaNzeGMP"
      },
      "source": [
        "## <u>Problem 5</u>\n",
        "#### Team WBC has 6 fixed players and 5 slots for players who are playing good currently. Create two collections using appropriate data structure to write this 6 fixed and 5 mutable players. You can choose any player you want.\n",
        "\n",
        "#### Available Players in the squad :\n",
        "<code>['Vijay', 'Lasith', 'Dravid', 'Smith', 'Ambati', 'Hardik', 'Sushant', 'Mandeep', 'Harbhajan', 'Yuvraj', 'Jadeja','Rajeev','Amrit']\n"
      ]
    },
    {
      "cell_type": "code",
      "metadata": {
        "id": "-0hTOMTQdEXE"
      },
      "source": [
        "# Lets fix the values for fixed and mutable objects\n",
        "fixed = ('Dravid', 'Smith', 'Hardik', 'Lasith', 'Yuvraj', 'Jadeja' )\n",
        "mutable = ['Vijay', 'Ambati', 'Sushant', 'Mandeep', 'Harbhajan']"
      ],
      "execution_count": 43,
      "outputs": []
    },
    {
      "cell_type": "code",
      "metadata": {
        "id": "1PEvrGDwfjc5",
        "colab": {
          "base_uri": "https://localhost:8080/"
        },
        "outputId": "110ddc47-6e50-418e-806b-984ba6ceed36"
      },
      "source": [
        "# Print them on same line using comma to seperate them\n",
        "print(f\"{fixed}, {mutable}\")"
      ],
      "execution_count": 44,
      "outputs": [
        {
          "output_type": "stream",
          "name": "stdout",
          "text": [
            "('Dravid', 'Smith', 'Hardik', 'Lasith', 'Yuvraj', 'Jadeja'), ['Vijay', 'Ambati', 'Sushant', 'Mandeep', 'Harbhajan']\n"
          ]
        }
      ]
    },
    {
      "cell_type": "code",
      "source": [
        "# We can also do this by using the sep\n",
        "print(fixed, mutable, sep=\", \")"
      ],
      "metadata": {
        "colab": {
          "base_uri": "https://localhost:8080/"
        },
        "id": "F3ejhvAZwgIe",
        "outputId": "007d923c-4c91-4e1a-e341-684e59702ca0"
      },
      "execution_count": 45,
      "outputs": [
        {
          "output_type": "stream",
          "name": "stdout",
          "text": [
            "('Dravid', 'Smith', 'Hardik', 'Lasith', 'Yuvraj', 'Jadeja'), ['Vijay', 'Ambati', 'Sushant', 'Mandeep', 'Harbhajan']\n"
          ]
        }
      ]
    },
    {
      "cell_type": "markdown",
      "metadata": {
        "id": "N-VdT09NfhL6"
      },
      "source": [
        "## <u>Problem 6</u>\n",
        "Try changing fixed player and mutable player"
      ]
    },
    {
      "cell_type": "code",
      "metadata": {
        "id": "E4lN-bxbffnF"
      },
      "source": [
        "# Change fixed player\n",
        "#fixed[1] = 'Rahul'\n",
        "#We can see that we are getting an error that because the tuples are immuatable"
      ],
      "execution_count": 48,
      "outputs": []
    },
    {
      "cell_type": "code",
      "source": [
        "#If ever we need to change the elements for sure, we can convert the tuple into the list and then change the values, like below\n",
        "updated_fixed_list= []\n",
        "for i in fixed:\n",
        "    updated_fixed_list.append(i)\n",
        "print(updated_fixed_list)\n",
        "\n",
        "updated_fixed_list[0] = 'Rahul'\n",
        "print(updated_fixed_list)"
      ],
      "metadata": {
        "colab": {
          "base_uri": "https://localhost:8080/"
        },
        "id": "KrTOvNQw0--4",
        "outputId": "511a2fbe-f6aa-4316-c552-065c1d3ce409"
      },
      "execution_count": 53,
      "outputs": [
        {
          "output_type": "stream",
          "name": "stdout",
          "text": [
            "['Dravid', 'Smith', 'Hardik', 'Lasith', 'Yuvraj', 'Jadeja']\n",
            "['Rahul', 'Smith', 'Hardik', 'Lasith', 'Yuvraj', 'Jadeja']\n"
          ]
        }
      ]
    },
    {
      "cell_type": "code",
      "metadata": {
        "id": "mbfWHggRgYJK",
        "colab": {
          "base_uri": "https://localhost:8080/"
        },
        "outputId": "6e258854-f4f4-4a23-dc61-f76582defa39"
      },
      "source": [
        "# Change mutable player\n",
        "mutable[1] = \"Rayudu\"\n",
        "print(mutable)"
      ],
      "execution_count": 50,
      "outputs": [
        {
          "output_type": "stream",
          "name": "stdout",
          "text": [
            "['Vijay', 'Rayudu', 'Sushant', 'Mandeep', 'Harbhajan']\n"
          ]
        }
      ]
    },
    {
      "cell_type": "markdown",
      "metadata": {
        "id": "KHrH5V0HFFhq"
      },
      "source": [
        "## <u> Problem 7</u>\n",
        "\n",
        "#### Find out the runrate required for Team WBC to win (for 20 overs)<br>\n",
        "#### Hint: Runrate is runs required per over to win the match"
      ]
    },
    {
      "cell_type": "code",
      "metadata": {
        "id": "QFd1CnS5E79X",
        "colab": {
          "base_uri": "https://localhost:8080/"
        },
        "outputId": "83aaf330-38fe-41cf-93a5-c13dfd4eef7c"
      },
      "source": [
        "# For understanding the run rate first we need the total runs scored and then we divide them by the overs we can get the runrate\n",
        "total_runs = sum(RBC.values())\n",
        "print(total_runs)"
      ],
      "execution_count": 54,
      "outputs": [
        {
          "output_type": "stream",
          "name": "stdout",
          "text": [
            "195\n"
          ]
        }
      ]
    },
    {
      "cell_type": "code",
      "metadata": {
        "id": "7f5Mnj93Ft3a",
        "colab": {
          "base_uri": "https://localhost:8080/"
        },
        "outputId": "06110208-9131-43d5-c395-cd642a58786d"
      },
      "source": [
        "# Total run rate required to win the match is\n",
        "runs_for_win = total_runs + 1\n",
        "runrate = runs_for_win/20\n",
        "print(f\"Runrate required to win the match is {runrate}\")"
      ],
      "execution_count": 57,
      "outputs": [
        {
          "output_type": "stream",
          "name": "stdout",
          "text": [
            "Runrate required to win the match is 9.8\n"
          ]
        }
      ]
    },
    {
      "cell_type": "markdown",
      "metadata": {
        "id": "uukQzwZQNwBE"
      },
      "source": [
        "## <u> Problem 8</u>\n",
        "#### You have just received a secret message form your informant stating that some players of the other team are into match fixing. You have to decode a message and inform authorities about it.<br>\n",
        "\n",
        "#### You received a string **\"skdlfjnvuerhw qefnnaosfu qrhviudhfv wuirhv adknlkxjcier vafuvhkajn iuvhsf vasuif KJSHFKJ aeuihvasf akjfhiufe\"** and index of \"i\" are going to be \"no balls\".\n",
        "\n",
        "\n",
        "### Find the first and last no ball from the string."
      ]
    },
    {
      "cell_type": "code",
      "metadata": {
        "id": "qJpki-fNJxvr",
        "colab": {
          "base_uri": "https://localhost:8080/"
        },
        "outputId": "ecb910b2-0c9f-450e-806a-dcd23d327199"
      },
      "source": [
        "#First no ball\n",
        "message = \"skdlfjnvuerhw qefnnaosfu qrhviudhfv wuirhv adknlkxjcier vafuvhkajn iuvhsf vasuif KJSHFKJ aeuihvasf akjfhiufe\"\n",
        "\n",
        "first_no_ball= message.index('i') +1\n",
        "print(first_no_ball)\n",
        "\n",
        "#we can also use find method\n",
        "first = message.find(\"i\") +1\n",
        "print(first)\n",
        "\n",
        "# Last no ball\n",
        "last_no_ball = len(message) - message[::-1].index('i')\n",
        "print(last_no_ball)\n",
        "\n",
        "print('-------------------')\n",
        "\n",
        "# Let me write the above last no ball code indetail\n",
        "reverse_message = message[::-1]\n",
        "#print(reverse_message)\n",
        "index_of_last_noball = reverse_message.index(\"i\")\n",
        "print(index_of_last_noball)\n",
        "#Now last no ball is\n",
        "last = len(message) - index_of_last_noball\n",
        "print(last)"
      ],
      "execution_count": 70,
      "outputs": [
        {
          "output_type": "stream",
          "name": "stdout",
          "text": [
            "30\n",
            "30\n",
            "105\n",
            "-------------------\n",
            "3\n",
            "105\n"
          ]
        }
      ]
    },
    {
      "cell_type": "code",
      "metadata": {
        "id": "8qMvmZydQAlr",
        "colab": {
          "base_uri": "https://localhost:8080/"
        },
        "outputId": "a2284300-4b40-4b34-9b62-8ac2d2da0851"
      },
      "source": [
        "# Print the first and last ball numbers\n",
        "\n",
        "print(f\"The first No ball is at ball {first}\")\n",
        "print(f\"The Last No ball is at ball {last}\")"
      ],
      "execution_count": 72,
      "outputs": [
        {
          "output_type": "stream",
          "name": "stdout",
          "text": [
            "The first No ball is at ball 30\n",
            "The Last No ball is at ball 105\n"
          ]
        }
      ]
    },
    {
      "cell_type": "markdown",
      "metadata": {
        "id": "dOIGKmlKaV8j"
      },
      "source": [
        "## <u>Problem 9</u>\n",
        "\n",
        "### You have given the information about fixing to the authorities and they are going to verify it during the match. But still you have to work on your strategy.\n",
        "\n",
        "### It is in your hands to automate the decision on who goes on 4th position for batting depending on following criteria:\n",
        "\n",
        "* if runs made by Team WBC is less than 50, Smith will play\n",
        "* if runs are between 51 to 100 then Sir Jadeja will go\n",
        "* if runs are above 100 then Hardik will play"
      ]
    },
    {
      "cell_type": "code",
      "metadata": {
        "id": "DpnGURU1Y-Af",
        "colab": {
          "base_uri": "https://localhost:8080/"
        },
        "outputId": "fe5c014a-ca34-49de-9635-e50ae1760445"
      },
      "source": [
        "# Lets start by initializing an input function and then the code for the above requirement.\n",
        "B_runs = int(input())\n",
        "\n",
        "if B_runs < 50 and B_runs>0 :\n",
        "    print(\"Smith will play\")\n",
        "elif B_runs >= 51 and B_runs <= 100:\n",
        "    print(\"Sir Jadeja will go\")\n",
        "elif B_runs > 100:\n",
        "    print(\"Hardik will play\")\n",
        "else:\n",
        "    print(\"Invalid Input\")"
      ],
      "execution_count": 78,
      "outputs": [
        {
          "output_type": "stream",
          "name": "stdout",
          "text": [
            "20\n",
            "Smith will play\n"
          ]
        }
      ]
    },
    {
      "cell_type": "markdown",
      "metadata": {
        "id": "kLakmjOYmKMM"
      },
      "source": [
        "# Hurray! Turns out you won the match and the guilty players are punished as well. You should be proud of yourself!"
      ]
    }
  ]
}